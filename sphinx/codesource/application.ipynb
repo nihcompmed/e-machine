{
 "cells": [
  {
   "cell_type": "markdown",
   "metadata": {},
   "source": [
    "## Application\n",
    "We demonstrate an application of our method in recovering an original image from a noisy image. We use MNIST images of handwritten digits to illustrate this idea."
   ]
  },
  {
   "cell_type": "code",
   "execution_count": 1,
   "metadata": {},
   "outputs": [],
   "source": [
    "import numpy as np\n",
    "import matplotlib.pyplot as plt\n",
    "import emachine as EM\n",
    "import itertools"
   ]
  },
  {
   "cell_type": "code",
   "execution_count": 2,
   "metadata": {},
   "outputs": [],
   "source": [
    "np.random.seed(0)"
   ]
  },
  {
   "cell_type": "markdown",
   "metadata": {},
   "source": [
    "We first select a real image from a testing set of MNIST data."
   ]
  },
  {
   "cell_type": "code",
   "execution_count": 3,
   "metadata": {},
   "outputs": [
    {
     "name": "stdout",
     "output_type": "stream",
     "text": [
      "8 (974, 784)\n"
     ]
    }
   ],
   "source": [
    "s0 = np.loadtxt('../MNIST_data/mnist_test.csv',delimiter=',')\n",
    "\n",
    "seq = s0[:,1:] \n",
    "label = s0[:,0]\n",
    "\n",
    "# select only 1 digit\n",
    "digit = 8\n",
    "seq1 = seq[label == digit]\n",
    "print(digit,seq1.shape)\n",
    "\n",
    "# convert to binary\n",
    "seq1 = np.sign(seq1-1.5)\n",
    "\n",
    "# select only one test sample to consider\n",
    "t = 2\n",
    "seq1 = seq1[t]"
   ]
  },
  {
   "cell_type": "markdown",
   "metadata": {},
   "source": [
    "Suppose the image has `n_hidden` missing pixels. We set their values to be zero."
   ]
  },
  {
   "cell_type": "code",
   "execution_count": 4,
   "metadata": {},
   "outputs": [],
   "source": [
    "# select hidden pixels\n",
    "n_hidden = 90\n",
    "hidden = np.random.choice(np.arange(28*28),n_hidden,replace=False)\n",
    "\n",
    "# set value at hidden position to be zero\n",
    "seq_hidden = seq1.copy()\n",
    "seq_hidden[hidden] = 0."
   ]
  },
  {
   "cell_type": "markdown",
   "metadata": {},
   "source": [
    "We plot the original image and the noisy image."
   ]
  },
  {
   "cell_type": "code",
   "execution_count": 5,
   "metadata": {
    "scrolled": true
   },
   "outputs": [
    {
     "data": {
      "image/png": "[encoded data removed]",
      "text/plain": [
       "<Figure size 432x201.6 with 2 Axes>"
      ]
     },
     "metadata": {
      "needs_background": "light"
     },
     "output_type": "display_data"
    }
   ],
   "source": [
    "nx,ny = 2,1\n",
    "fig, ax = plt.subplots(ny,nx,figsize=(nx*3,ny*2.8))\n",
    "ax[0].imshow(seq1.reshape(28,28),interpolation='nearest')\n",
    "ax[1].imshow(seq_hidden.reshape(28,28),interpolation='nearest')\n",
    "\n",
    "ax[0].set_title('original image')\n",
    "ax[1].set_title('noisy image')\n",
    "\n",
    "for i in range(nx):\n",
    "    ax[i].set_axis_off()\n",
    "    \n",
    "plt.tight_layout(h_pad=0.7, w_pad=1.5)\n",
    "#plt.savefig('fig_hidden.pdf', format='pdf', dpi=100)"
   ]
  },
  {
   "cell_type": "markdown",
   "metadata": {},
   "source": [
    "We aim to reconstruct the missing pixels, and recover the original image. We use images of the same digit from the MNIST training set. Because of the limitation of sample size (n_seq = 5851), compared with number of variables (n_var = 28 x 28 = 784 pixels), we first identify \"conserved\" pixels that have common values for more than 80% of the training samples."
   ]
  },
  {
   "cell_type": "markdown",
   "metadata": {},
   "source": [
    "We then find conserved and active pixels from training data."
   ]
  },
  {
   "cell_type": "code",
   "execution_count": 6,
   "metadata": {},
   "outputs": [
    {
     "name": "stdout",
     "output_type": "stream",
     "text": [
      "(5851, 784)\n"
     ]
    }
   ],
   "source": [
    "# load train data\n",
    "s0_train = np.loadtxt('../MNIST_data/mnist_train.csv',delimiter=',')\n",
    "\n",
    "seq_train = s0_train[:,1:] \n",
    "label_train = s0_train[:,0]\n",
    "\n",
    "# select only 1 digit\n",
    "seq1_train = seq_train[label_train == digit] #digit = 8\n",
    "\n",
    "# convert to binary\n",
    "seq1_train = np.sign(seq1_train-1.5)\n",
    "print(seq1_train.shape)"
   ]
  },
  {
   "cell_type": "code",
   "execution_count": 7,
   "metadata": {},
   "outputs": [
    {
     "name": "stdout",
     "output_type": "stream",
     "text": [
      "49 513 562 222\n"
     ]
    }
   ],
   "source": [
    "# find conserved pixels from traing data\n",
    "n,m = seq1_train.shape\n",
    "frequency = [(seq1_train[:,i] == -1).sum()/float(n) for i in range(m)]\n",
    "\n",
    "cols_pos = [i for i in range(m) if frequency[i] < 0.2] # 80% positive\n",
    "cols_neg = [i for i in range(m) if frequency[i] > 0.8] # 80% negative\n",
    "cols_conserved = cols_pos + cols_neg\n",
    "\n",
    "# active pixels\n",
    "cols_active = np.delete(np.arange(0,m),cols_conserved)\n",
    "\n",
    "print(len(cols_pos),len(cols_neg),len(cols_conserved),len(cols_active))"
   ]
  },
  {
   "cell_type": "markdown",
   "metadata": {},
   "source": [
    "In this case, there are 562 conserved pixels in total, including 49 positive pixels and 513 negative pixels. There are 222 active pixels."
   ]
  },
  {
   "cell_type": "markdown",
   "metadata": {},
   "source": [
    "To reconstruct the value of conserved hidden pixels (of the test image), we simply set the value of conserved hidden pixels of the test image as the value of corresponding pixels in the training data."
   ]
  },
  {
   "cell_type": "code",
   "execution_count": 8,
   "metadata": {},
   "outputs": [
    {
     "name": "stdout",
     "output_type": "stream",
     "text": [
      "n_hidden_active: 26\n"
     ]
    }
   ],
   "source": [
    "hidden_conserved = np.intersect1d(hidden,cols_conserved)\n",
    "hidden_active = np.intersect1d(hidden,cols_active)\n",
    "\n",
    "n_hidden_conserved = len(hidden_conserved)\n",
    "n_hidden_active = len(hidden_active)\n",
    "print('n_hidden_active:',len(hidden_active))\n",
    "\n",
    "## recover hidden\n",
    "seq_recover = seq_hidden.copy()\n",
    "\n",
    "hidden_neg = np.intersect1d(hidden_conserved,cols_neg)\n",
    "hidden_pos = np.intersect1d(hidden_conserved,cols_pos)\n",
    "\n",
    "seq_recover[hidden_neg] = -1.\n",
    "seq_recover[hidden_pos] = 1."
   ]
  },
  {
   "cell_type": "markdown",
   "metadata": {},
   "source": [
    "Now, there are `n_hidden_active` (i.e., 26 in this example) hidden pixels that we need to find the values of. We will apply our $\\epsilon$-machine to find the pixel bias and interactions between 222 active pixels."
   ]
  },
  {
   "cell_type": "markdown",
   "metadata": {},
   "source": [
    "We find pixel bias and interactions of active pixels (from training data)."
   ]
  },
  {
   "cell_type": "code",
   "execution_count": 9,
   "metadata": {},
   "outputs": [
    {
     "name": "stdout",
     "output_type": "stream",
     "text": [
      "(5851, 222)\n",
      "(5851, 24753)\n",
      "0.92 -711.6255597866084\n",
      "0.935 -705.7689428451328\n",
      "0.95 -706.8546800350513\n",
      "0.965 -719.9330903444665\n",
      "0.98 -767.5753296194733\n",
      "optimal eps: 0.935\n"
     ]
    }
   ],
   "source": [
    "seq_train_active = seq1_train[:,cols_active]\n",
    "print((seq_train_active.shape))\n",
    "\n",
    "ops = EM.operators(seq_train_active)\n",
    "print(ops.shape)\n",
    "\n",
    "eps_list = np.linspace(0.92,0.98,5)\n",
    "E_eps = np.zeros(len(eps_list))\n",
    "w_eps = np.zeros((len(eps_list),ops.shape[1]))\n",
    "for i,eps in enumerate(eps_list):    \n",
    "    w_eps[i,:],E_eps[i] = EM.fit(ops,eps=eps,max_iter=100)\n",
    "    print(eps,E_eps[i])\n",
    "    \n",
    "ieps = np.argmax(E_eps)\n",
    "print('optimal eps:',eps_list[ieps])\n",
    "w = w_eps[ieps]\n",
    "#np.savetxt('w.dat',w,fmt='%f')    "
   ]
  },
  {
   "cell_type": "markdown",
   "metadata": {},
   "source": [
    "We then apply these to the test image and select the best active hidden pixel vector. This step requires a large computer memory and we perform this procedure by using a computing server."
   ]
  },
  {
   "cell_type": "code",
   "execution_count": null,
   "metadata": {},
   "outputs": [],
   "source": [
    "# consider every possibilities of configurations of the active hidden pixels\n",
    "seq_all = np.asarray(list(itertools.product([1.0, -1.0], repeat=n_hidden_active)))\n",
    "n_possibles = seq_all.shape[0]\n",
    "print('number of possible configs:',n_possibles)\n",
    "\n",
    "active_hidden_indices = np.intersect1d(cols_active,hidden_active,\n",
    "                                       return_indices=True)[1]\n",
    "\n",
    "seq_active = seq1[cols_active]\n",
    "seq_active_possibles = np.tile(seq_active,(n_possibles,1))\n",
    "seq_active_possibles[:,active_hidden_indices] = seq_all\n",
    "\n",
    "# calculate energy of each possible configuration\n",
    "npart = 128   # devide into npart because of PC memory limitation\n",
    "ns = int(n_possibles/npart)\n",
    "energy = np.full(n_possibles,100000.)\n",
    "for i in range(npart):\n",
    "    i1 = int(i*ns)\n",
    "    i2 = int((i+1)*ns)\n",
    "    if i%5 == 0: print('ipart:',i)\n",
    "    ops = EM.operators(seq_active_possibles[i1:i2])\n",
    "    energy[i1:i2] = -ops.dot(w)\n",
    "    \n",
    "# select the best sequence that maximize probability\n",
    "seq_recover[hidden_active] = seq_all[np.argmin(energy)]     "
   ]
  },
  {
   "cell_type": "markdown",
   "metadata": {},
   "source": [
    "We load the computed result from the code above."
   ]
  },
  {
   "cell_type": "code",
   "execution_count": 12,
   "metadata": {},
   "outputs": [],
   "source": [
    "seq_recover = np.loadtxt('seq_recover_90.dat')"
   ]
  },
  {
   "cell_type": "markdown",
   "metadata": {},
   "source": [
    "We plot the image we recovered."
   ]
  },
  {
   "cell_type": "code",
   "execution_count": 14,
   "metadata": {},
   "outputs": [
    {
     "data": {
      "image/png": "[encoded data removed]",
      "text/plain": [
       "<Figure size 432x187.2 with 3 Axes>"
      ]
     },
     "metadata": {
      "needs_background": "light"
     },
     "output_type": "display_data"
    }
   ],
   "source": [
    "nx,ny = 3,1\n",
    "nfig = nx*ny\n",
    "fig, ax = plt.subplots(ny,nx,figsize=(nx*2.0,ny*2.6))\n",
    "ax[0].imshow(seq1.reshape(28,28),interpolation='nearest')\n",
    "ax[1].imshow(seq_hidden.reshape(28,28),interpolation='nearest')\n",
    "ax[2].imshow(seq_recover.reshape(28,28),interpolation='nearest')\n",
    "\n",
    "ax[0].set_title('original image')\n",
    "ax[1].set_title('noisy image')\n",
    "ax[2].set_title('recovered image')\n",
    "\n",
    "for i in range(nx):\n",
    "    ax[i].set_axis_off()\n",
    "    \n",
    "label = ['(a)','(b)','(c)','(d)','(e)','(g)','(d)','(h)']\n",
    "xlabel = np.full(nfig,0.0)\n",
    "ylabel = np.full(nfig,1.1)\n",
    "k = 0\n",
    "for i in range(nx):        \n",
    "    ax[i].text(xlabel[k],ylabel[k],label[k],transform=ax[i].transAxes,\n",
    "               va='top',ha='right',fontsize=13)\n",
    "    k += 1\n",
    "        \n",
    "plt.tight_layout(h_pad=0.0, w_pad=0.5)\n",
    "#plt.savefig('fig.pdf', format='pdf', dpi=100)"
   ]
  },
  {
   "cell_type": "markdown",
   "metadata": {},
   "source": [
    "The recovered image looks like the original image."
   ]
  },
  {
   "cell_type": "code",
   "execution_count": null,
   "metadata": {},
   "outputs": [],
   "source": []
  }
 ],
 "metadata": {
  "kernelspec": {
   "display_name": "Python 3",
   "language": "python",
   "name": "python3"
  },
  "language_info": {
   "codemirror_mode": {
    "name": "ipython",
    "version": 3
   },
   "file_extension": ".py",
   "mimetype": "text/x-python",
   "name": "python",
   "nbconvert_exporter": "python",
   "pygments_lexer": "ipython3",
   "version": "3.7.0"
  }
 },
 "nbformat": 4,
 "nbformat_minor": 2
}
